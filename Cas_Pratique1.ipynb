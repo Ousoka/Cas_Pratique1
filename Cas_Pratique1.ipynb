{
 "cells": [
  {
   "cell_type": "code",
   "execution_count": 1,
   "id": "9173f22c",
   "metadata": {},
   "outputs": [
    {
     "name": "stdout",
     "output_type": "stream",
     "text": [
      "['Pluvio_fatick', 'Pluvio_Toubacouta', 'Pluvio_Foundioune']\n"
     ]
    }
   ],
   "source": [
    "#Question1\n",
    "import os\n",
    "cwd = os.getcwd()\n",
    "os.chdir(\"C:\\\\Users\\\\LENOVO\\\\Desktop\\\\Informatique\\\\07-04-2022\\\\Cas_pratique_1\")\n",
    "import pandas as pd\n",
    "fichier = \"pluvio_senegal.xlsx\"\n",
    "xl = pd.ExcelFile(fichier)\n",
    "print(xl.sheet_names)"
   ]
  },
  {
   "cell_type": "code",
   "execution_count": 2,
   "id": "09dda311",
   "metadata": {},
   "outputs": [
    {
     "data": {
      "text/html": [
       "<div><div id=b7c153fa-add5-4e8f-86e0-e3a0b49c0095 style=\"display:none; background-color:#9D6CFF; color:white; width:200px; height:30px; padding-left:5px; border-radius:4px; flex-direction:row; justify-content:space-around; align-items:center;\" onmouseover=\"this.style.backgroundColor='#BA9BF8'\" onmouseout=\"this.style.backgroundColor='#9D6CFF'\" onclick=\"window.commands?.execute('create-mitosheet-from-dataframe-output');\">See Full Dataframe in Mito</div> <script> if (window.commands.hasCommand('create-mitosheet-from-dataframe-output')) document.getElementById('b7c153fa-add5-4e8f-86e0-e3a0b49c0095').style.display = 'flex' </script> <table border=\"1\" class=\"dataframe\">\n",
       "  <thead>\n",
       "    <tr style=\"text-align: right;\">\n",
       "      <th></th>\n",
       "      <th>Stations</th>\n",
       "      <th>Annees</th>\n",
       "      <th>Janv</th>\n",
       "      <th>Fevr</th>\n",
       "      <th>Mars</th>\n",
       "      <th>Avr</th>\n",
       "      <th>Mai</th>\n",
       "      <th>Juin</th>\n",
       "      <th>Juil</th>\n",
       "      <th>Aout</th>\n",
       "      <th>Sept</th>\n",
       "      <th>Oct</th>\n",
       "      <th>Nov</th>\n",
       "      <th>Dec</th>\n",
       "    </tr>\n",
       "  </thead>\n",
       "  <tbody>\n",
       "    <tr>\n",
       "      <th>0</th>\n",
       "      <td>Foundiougne</td>\n",
       "      <td>1950</td>\n",
       "      <td>0.0</td>\n",
       "      <td>0.0</td>\n",
       "      <td>0.0</td>\n",
       "      <td>0.0</td>\n",
       "      <td>5.2</td>\n",
       "      <td>67.1</td>\n",
       "      <td>143.2</td>\n",
       "      <td>504.8</td>\n",
       "      <td>308.9</td>\n",
       "      <td>157.2</td>\n",
       "      <td>7.2</td>\n",
       "      <td>0.0</td>\n",
       "    </tr>\n",
       "    <tr>\n",
       "      <th>1</th>\n",
       "      <td>Foundiougne</td>\n",
       "      <td>1951</td>\n",
       "      <td>0.0</td>\n",
       "      <td>0.0</td>\n",
       "      <td>0.0</td>\n",
       "      <td>0.0</td>\n",
       "      <td>16.8</td>\n",
       "      <td>12.6</td>\n",
       "      <td>131.2</td>\n",
       "      <td>310.4</td>\n",
       "      <td>198.5</td>\n",
       "      <td>199.9</td>\n",
       "      <td>8.4</td>\n",
       "      <td>0.0</td>\n",
       "    </tr>\n",
       "    <tr>\n",
       "      <th>2</th>\n",
       "      <td>Foundiougne</td>\n",
       "      <td>1952</td>\n",
       "      <td>0.0</td>\n",
       "      <td>0.0</td>\n",
       "      <td>0.0</td>\n",
       "      <td>1.3</td>\n",
       "      <td>7.1</td>\n",
       "      <td>47.0</td>\n",
       "      <td>244.9</td>\n",
       "      <td>297.5</td>\n",
       "      <td>242.7</td>\n",
       "      <td>79.0</td>\n",
       "      <td>0.0</td>\n",
       "      <td>0.0</td>\n",
       "    </tr>\n",
       "    <tr>\n",
       "      <th>3</th>\n",
       "      <td>Foundiougne</td>\n",
       "      <td>1953</td>\n",
       "      <td>0.0</td>\n",
       "      <td>0.0</td>\n",
       "      <td>0.0</td>\n",
       "      <td>0.0</td>\n",
       "      <td>0.0</td>\n",
       "      <td>5.2</td>\n",
       "      <td>267.5</td>\n",
       "      <td>311.5</td>\n",
       "      <td>398.0</td>\n",
       "      <td>71.1</td>\n",
       "      <td>0.0</td>\n",
       "      <td>0.0</td>\n",
       "    </tr>\n",
       "    <tr>\n",
       "      <th>4</th>\n",
       "      <td>Foundiougne</td>\n",
       "      <td>1954</td>\n",
       "      <td>0.0</td>\n",
       "      <td>0.0</td>\n",
       "      <td>0.0</td>\n",
       "      <td>0.0</td>\n",
       "      <td>0.0</td>\n",
       "      <td>85.0</td>\n",
       "      <td>205.5</td>\n",
       "      <td>482.8</td>\n",
       "      <td>97.7</td>\n",
       "      <td>47.2</td>\n",
       "      <td>8.2</td>\n",
       "      <td>0.0</td>\n",
       "    </tr>\n",
       "    <tr>\n",
       "      <th>...</th>\n",
       "      <td>...</td>\n",
       "      <td>...</td>\n",
       "      <td>...</td>\n",
       "      <td>...</td>\n",
       "      <td>...</td>\n",
       "      <td>...</td>\n",
       "      <td>...</td>\n",
       "      <td>...</td>\n",
       "      <td>...</td>\n",
       "      <td>...</td>\n",
       "      <td>...</td>\n",
       "      <td>...</td>\n",
       "      <td>...</td>\n",
       "      <td>...</td>\n",
       "    </tr>\n",
       "    <tr>\n",
       "      <th>63</th>\n",
       "      <td>Foundiougne</td>\n",
       "      <td>2013</td>\n",
       "      <td>0.0</td>\n",
       "      <td>0.0</td>\n",
       "      <td>0.0</td>\n",
       "      <td>0.0</td>\n",
       "      <td>0.0</td>\n",
       "      <td>46.5</td>\n",
       "      <td>35.3</td>\n",
       "      <td>392.0</td>\n",
       "      <td>148.2</td>\n",
       "      <td>32.0</td>\n",
       "      <td>0.0</td>\n",
       "      <td>0.0</td>\n",
       "    </tr>\n",
       "    <tr>\n",
       "      <th>64</th>\n",
       "      <td>Foundiougne</td>\n",
       "      <td>2014</td>\n",
       "      <td>0.0</td>\n",
       "      <td>0.0</td>\n",
       "      <td>0.0</td>\n",
       "      <td>0.0</td>\n",
       "      <td>0.0</td>\n",
       "      <td>16.0</td>\n",
       "      <td>48.8</td>\n",
       "      <td>127.0</td>\n",
       "      <td>247.1</td>\n",
       "      <td>19.3</td>\n",
       "      <td>0.0</td>\n",
       "      <td>0.0</td>\n",
       "    </tr>\n",
       "    <tr>\n",
       "      <th>65</th>\n",
       "      <td>Foundiougne</td>\n",
       "      <td>2015</td>\n",
       "      <td>0.0</td>\n",
       "      <td>0.0</td>\n",
       "      <td>0.0</td>\n",
       "      <td>0.0</td>\n",
       "      <td>0.0</td>\n",
       "      <td>0.0</td>\n",
       "      <td>45.3</td>\n",
       "      <td>197.4</td>\n",
       "      <td>230.7</td>\n",
       "      <td>100.4</td>\n",
       "      <td>0.0</td>\n",
       "      <td>0.0</td>\n",
       "    </tr>\n",
       "    <tr>\n",
       "      <th>66</th>\n",
       "      <td>Foundiougne</td>\n",
       "      <td>2016</td>\n",
       "      <td>0.0</td>\n",
       "      <td>0.0</td>\n",
       "      <td>0.0</td>\n",
       "      <td>0.0</td>\n",
       "      <td>0.0</td>\n",
       "      <td>5.2</td>\n",
       "      <td>165.7</td>\n",
       "      <td>213.8</td>\n",
       "      <td>134.1</td>\n",
       "      <td>35.0</td>\n",
       "      <td>0.0</td>\n",
       "      <td>0.0</td>\n",
       "    </tr>\n",
       "    <tr>\n",
       "      <th>67</th>\n",
       "      <td>Foundiougne</td>\n",
       "      <td>2017</td>\n",
       "      <td>0.0</td>\n",
       "      <td>0.0</td>\n",
       "      <td>0.0</td>\n",
       "      <td>0.0</td>\n",
       "      <td>0.0</td>\n",
       "      <td>19.5</td>\n",
       "      <td>236.0</td>\n",
       "      <td>263.2</td>\n",
       "      <td>77.8</td>\n",
       "      <td>0.0</td>\n",
       "      <td>0.0</td>\n",
       "      <td>0.0</td>\n",
       "    </tr>\n",
       "  </tbody>\n",
       "</table></div>"
      ],
      "text/plain": [
       "       Stations  Annees  Janv  Fevr  Mars  Avr   Mai  Juin   Juil   Aout  \\\n",
       "0   Foundiougne    1950   0.0   0.0   0.0  0.0   5.2  67.1  143.2  504.8   \n",
       "1   Foundiougne    1951   0.0   0.0   0.0  0.0  16.8  12.6  131.2  310.4   \n",
       "2   Foundiougne    1952   0.0   0.0   0.0  1.3   7.1  47.0  244.9  297.5   \n",
       "3   Foundiougne    1953   0.0   0.0   0.0  0.0   0.0   5.2  267.5  311.5   \n",
       "4   Foundiougne    1954   0.0   0.0   0.0  0.0   0.0  85.0  205.5  482.8   \n",
       "..          ...     ...   ...   ...   ...  ...   ...   ...    ...    ...   \n",
       "63  Foundiougne    2013   0.0   0.0   0.0  0.0   0.0  46.5   35.3  392.0   \n",
       "64  Foundiougne    2014   0.0   0.0   0.0  0.0   0.0  16.0   48.8  127.0   \n",
       "65  Foundiougne    2015   0.0   0.0   0.0  0.0   0.0   0.0   45.3  197.4   \n",
       "66  Foundiougne    2016   0.0   0.0   0.0  0.0   0.0   5.2  165.7  213.8   \n",
       "67  Foundiougne    2017   0.0   0.0   0.0  0.0   0.0  19.5  236.0  263.2   \n",
       "\n",
       "     Sept    Oct  Nov  Dec  \n",
       "0   308.9  157.2  7.2  0.0  \n",
       "1   198.5  199.9  8.4  0.0  \n",
       "2   242.7   79.0  0.0  0.0  \n",
       "3   398.0   71.1  0.0  0.0  \n",
       "4    97.7   47.2  8.2  0.0  \n",
       "..    ...    ...  ...  ...  \n",
       "63  148.2   32.0  0.0  0.0  \n",
       "64  247.1   19.3  0.0  0.0  \n",
       "65  230.7  100.4  0.0  0.0  \n",
       "66  134.1   35.0  0.0  0.0  \n",
       "67   77.8    0.0  0.0  0.0  \n",
       "\n",
       "[68 rows x 14 columns]"
      ]
     },
     "execution_count": 2,
     "metadata": {},
     "output_type": "execute_result"
    }
   ],
   "source": [
    "#Question2\n",
    "pf = xl.parse(\"Pluvio_Foundioune\")\n",
    "pf"
   ]
  },
  {
   "cell_type": "code",
   "execution_count": 3,
   "id": "00e36bdd",
   "metadata": {},
   "outputs": [
    {
     "data": {
      "image/png": "[encoded data removed]",
      "text/plain": [
       "<Figure size 432x288 with 1 Axes>"
      ]
     },
     "metadata": {
      "needs_background": "light"
     },
     "output_type": "display_data"
    }
   ],
   "source": [
    "#Question3\n",
    "import matplotlib.pyplot as plt\n",
    "plt.plot(pf.Annees,pf.Janv)\n",
    "#****************Q13***************************\n",
    "plt.savefig('Q3.png')\n",
    "#****************Q13***************************\n",
    "plt.show()"
   ]
  },
  {
   "cell_type": "code",
   "execution_count": 4,
   "id": "bb6c8532",
   "metadata": {},
   "outputs": [
    {
     "data": {
      "text/html": [
       "<div><div id=ab4cf6b1-048f-4822-ae39-ed80d03e8f44 style=\"display:none; background-color:#9D6CFF; color:white; width:200px; height:30px; padding-left:5px; border-radius:4px; flex-direction:row; justify-content:space-around; align-items:center;\" onmouseover=\"this.style.backgroundColor='#BA9BF8'\" onmouseout=\"this.style.backgroundColor='#9D6CFF'\" onclick=\"window.commands?.execute('create-mitosheet-from-dataframe-output');\">See Full Dataframe in Mito</div> <script> if (window.commands.hasCommand('create-mitosheet-from-dataframe-output')) document.getElementById('ab4cf6b1-048f-4822-ae39-ed80d03e8f44').style.display = 'flex' </script> <table border=\"1\" class=\"dataframe\">\n",
       "  <thead>\n",
       "    <tr style=\"text-align: right;\">\n",
       "      <th></th>\n",
       "      <th>Stations</th>\n",
       "      <th>Annees</th>\n",
       "      <th>Janv</th>\n",
       "      <th>Fevr</th>\n",
       "      <th>Mars</th>\n",
       "      <th>Avr</th>\n",
       "      <th>Mai</th>\n",
       "      <th>Juin</th>\n",
       "      <th>Juil</th>\n",
       "      <th>Aout</th>\n",
       "      <th>Sept</th>\n",
       "      <th>Oct</th>\n",
       "      <th>Nov</th>\n",
       "      <th>Dec</th>\n",
       "    </tr>\n",
       "  </thead>\n",
       "  <tbody>\n",
       "    <tr>\n",
       "      <th>50</th>\n",
       "      <td>Foundiougne</td>\n",
       "      <td>2000</td>\n",
       "      <td>0.0</td>\n",
       "      <td>0.00</td>\n",
       "      <td>0.0</td>\n",
       "      <td>0.0</td>\n",
       "      <td>0.0</td>\n",
       "      <td>22.0</td>\n",
       "      <td>239.3</td>\n",
       "      <td>323.9</td>\n",
       "      <td>193.9</td>\n",
       "      <td>142.8</td>\n",
       "      <td>0.0</td>\n",
       "      <td>0.0</td>\n",
       "    </tr>\n",
       "    <tr>\n",
       "      <th>51</th>\n",
       "      <td>Foundiougne</td>\n",
       "      <td>2001</td>\n",
       "      <td>0.0</td>\n",
       "      <td>0.00</td>\n",
       "      <td>0.0</td>\n",
       "      <td>0.0</td>\n",
       "      <td>0.0</td>\n",
       "      <td>23.0</td>\n",
       "      <td>192.0</td>\n",
       "      <td>221.1</td>\n",
       "      <td>288.3</td>\n",
       "      <td>73.2</td>\n",
       "      <td>48.6</td>\n",
       "      <td>0.0</td>\n",
       "    </tr>\n",
       "    <tr>\n",
       "      <th>52</th>\n",
       "      <td>Foundiougne</td>\n",
       "      <td>2002</td>\n",
       "      <td>56.5</td>\n",
       "      <td>0.00</td>\n",
       "      <td>0.0</td>\n",
       "      <td>0.0</td>\n",
       "      <td>0.0</td>\n",
       "      <td>54.2</td>\n",
       "      <td>25.7</td>\n",
       "      <td>221.1</td>\n",
       "      <td>288.3</td>\n",
       "      <td>164.0</td>\n",
       "      <td>0.0</td>\n",
       "      <td>0.0</td>\n",
       "    </tr>\n",
       "    <tr>\n",
       "      <th>53</th>\n",
       "      <td>Foundiougne</td>\n",
       "      <td>2003</td>\n",
       "      <td>0.0</td>\n",
       "      <td>0.00</td>\n",
       "      <td>0.0</td>\n",
       "      <td>0.0</td>\n",
       "      <td>0.0</td>\n",
       "      <td>0.0</td>\n",
       "      <td>191.3</td>\n",
       "      <td>165.7</td>\n",
       "      <td>130.3</td>\n",
       "      <td>217.8</td>\n",
       "      <td>0.0</td>\n",
       "      <td>0.0</td>\n",
       "    </tr>\n",
       "    <tr>\n",
       "      <th>54</th>\n",
       "      <td>Foundiougne</td>\n",
       "      <td>2004</td>\n",
       "      <td>0.0</td>\n",
       "      <td>0.00</td>\n",
       "      <td>0.0</td>\n",
       "      <td>0.0</td>\n",
       "      <td>0.0</td>\n",
       "      <td>52.5</td>\n",
       "      <td>106.5</td>\n",
       "      <td>314.9</td>\n",
       "      <td>110.4</td>\n",
       "      <td>NaN</td>\n",
       "      <td>NaN</td>\n",
       "      <td>NaN</td>\n",
       "    </tr>\n",
       "    <tr>\n",
       "      <th>...</th>\n",
       "      <td>...</td>\n",
       "      <td>...</td>\n",
       "      <td>...</td>\n",
       "      <td>...</td>\n",
       "      <td>...</td>\n",
       "      <td>...</td>\n",
       "      <td>...</td>\n",
       "      <td>...</td>\n",
       "      <td>...</td>\n",
       "      <td>...</td>\n",
       "      <td>...</td>\n",
       "      <td>...</td>\n",
       "      <td>...</td>\n",
       "      <td>...</td>\n",
       "    </tr>\n",
       "    <tr>\n",
       "      <th>56</th>\n",
       "      <td>Foundiougne</td>\n",
       "      <td>2006</td>\n",
       "      <td>0.0</td>\n",
       "      <td>1.50</td>\n",
       "      <td>0.0</td>\n",
       "      <td>0.0</td>\n",
       "      <td>0.0</td>\n",
       "      <td>84.7</td>\n",
       "      <td>29.4</td>\n",
       "      <td>366.0</td>\n",
       "      <td>209.4</td>\n",
       "      <td>82.6</td>\n",
       "      <td>0.0</td>\n",
       "      <td>0.0</td>\n",
       "    </tr>\n",
       "    <tr>\n",
       "      <th>57</th>\n",
       "      <td>Foundiougne</td>\n",
       "      <td>2007</td>\n",
       "      <td>NaN</td>\n",
       "      <td>1.54</td>\n",
       "      <td>NaN</td>\n",
       "      <td>NaN</td>\n",
       "      <td>NaN</td>\n",
       "      <td>3.1</td>\n",
       "      <td>34.6</td>\n",
       "      <td>216.5</td>\n",
       "      <td>134.0</td>\n",
       "      <td>5.4</td>\n",
       "      <td>NaN</td>\n",
       "      <td>NaN</td>\n",
       "    </tr>\n",
       "    <tr>\n",
       "      <th>58</th>\n",
       "      <td>Foundiougne</td>\n",
       "      <td>2008</td>\n",
       "      <td>0.0</td>\n",
       "      <td>0.00</td>\n",
       "      <td>0.0</td>\n",
       "      <td>0.0</td>\n",
       "      <td>0.0</td>\n",
       "      <td>42.8</td>\n",
       "      <td>133.1</td>\n",
       "      <td>330.1</td>\n",
       "      <td>193.7</td>\n",
       "      <td>0.0</td>\n",
       "      <td>0.0</td>\n",
       "      <td>0.0</td>\n",
       "    </tr>\n",
       "    <tr>\n",
       "      <th>59</th>\n",
       "      <td>Foundiougne</td>\n",
       "      <td>2009</td>\n",
       "      <td>0.0</td>\n",
       "      <td>0.00</td>\n",
       "      <td>0.0</td>\n",
       "      <td>0.0</td>\n",
       "      <td>0.0</td>\n",
       "      <td>5.7</td>\n",
       "      <td>117.5</td>\n",
       "      <td>276.0</td>\n",
       "      <td>207.9</td>\n",
       "      <td>7.0</td>\n",
       "      <td>0.0</td>\n",
       "      <td>0.0</td>\n",
       "    </tr>\n",
       "    <tr>\n",
       "      <th>60</th>\n",
       "      <td>Foundiougne</td>\n",
       "      <td>2010</td>\n",
       "      <td>0.0</td>\n",
       "      <td>0.00</td>\n",
       "      <td>0.0</td>\n",
       "      <td>0.0</td>\n",
       "      <td>0.0</td>\n",
       "      <td>87.6</td>\n",
       "      <td>77.7</td>\n",
       "      <td>162.5</td>\n",
       "      <td>415.9</td>\n",
       "      <td>0.0</td>\n",
       "      <td>0.0</td>\n",
       "      <td>0.0</td>\n",
       "    </tr>\n",
       "  </tbody>\n",
       "</table></div>"
      ],
      "text/plain": [
       "       Stations  Annees  Janv  Fevr  Mars  Avr  Mai  Juin   Juil   Aout  \\\n",
       "50  Foundiougne    2000   0.0  0.00   0.0  0.0  0.0  22.0  239.3  323.9   \n",
       "51  Foundiougne    2001   0.0  0.00   0.0  0.0  0.0  23.0  192.0  221.1   \n",
       "52  Foundiougne    2002  56.5  0.00   0.0  0.0  0.0  54.2   25.7  221.1   \n",
       "53  Foundiougne    2003   0.0  0.00   0.0  0.0  0.0   0.0  191.3  165.7   \n",
       "54  Foundiougne    2004   0.0  0.00   0.0  0.0  0.0  52.5  106.5  314.9   \n",
       "55  Foundiougne    2005   0.0  4.80   0.0  0.0  1.1  61.1  264.7  218.6   \n",
       "56  Foundiougne    2006   0.0  1.50   0.0  0.0  0.0  84.7   29.4  366.0   \n",
       "57  Foundiougne    2007   NaN  1.54   NaN  NaN  NaN   3.1   34.6  216.5   \n",
       "58  Foundiougne    2008   0.0  0.00   0.0  0.0  0.0  42.8  133.1  330.1   \n",
       "59  Foundiougne    2009   0.0  0.00   0.0  0.0  0.0   5.7  117.5  276.0   \n",
       "60  Foundiougne    2010   0.0  0.00   0.0  0.0  0.0  87.6   77.7  162.5   \n",
       "\n",
       "     Sept    Oct   Nov  Dec  \n",
       "50  193.9  142.8   0.0  0.0  \n",
       "51  288.3   73.2  48.6  0.0  \n",
       "52  288.3  164.0   0.0  0.0  \n",
       "53  130.3  217.8   0.0  0.0  \n",
       "54  110.4    NaN   NaN  NaN  \n",
       "55  182.8  134.0   0.0  0.0  \n",
       "56  209.4   82.6   0.0  0.0  \n",
       "57  134.0    5.4   NaN  NaN  \n",
       "58  193.7    0.0   0.0  0.0  \n",
       "59  207.9    7.0   0.0  0.0  \n",
       "60  415.9    0.0   0.0  0.0  "
      ]
     },
     "execution_count": 4,
     "metadata": {},
     "output_type": "execute_result"
    }
   ],
   "source": [
    "#Question4\n",
    "pf1=pf.iloc[50:61]\n",
    "pf1"
   ]
  },
  {
   "cell_type": "code",
   "execution_count": 5,
   "id": "15b3d927",
   "metadata": {},
   "outputs": [
    {
     "data": {
      "image/png": "[encoded data removed]",
      "text/plain": [
       "<Figure size 432x288 with 1 Axes>"
      ]
     },
     "metadata": {
      "needs_background": "light"
     },
     "output_type": "display_data"
    }
   ],
   "source": [
    "import matplotlib.pyplot as plt\n",
    "plt.plot(pf1.Annees,pf1.Janv)\n",
    "#****************Q13***************************\n",
    "plt.savefig('Q4.png')\n",
    "#****************Q13***************************\n",
    "plt.show()"
   ]
  },
  {
   "cell_type": "code",
   "execution_count": 7,
   "id": "3d7bd190",
   "metadata": {},
   "outputs": [
    {
     "data": {
      "text/html": [
       "<div><div id=d4e90180-8d0f-4de6-add9-cac2ab0ab802 style=\"display:none; background-color:#9D6CFF; color:white; width:200px; height:30px; padding-left:5px; border-radius:4px; flex-direction:row; justify-content:space-around; align-items:center;\" onmouseover=\"this.style.backgroundColor='#BA9BF8'\" onmouseout=\"this.style.backgroundColor='#9D6CFF'\" onclick=\"window.commands?.execute('create-mitosheet-from-dataframe-output');\">See Full Dataframe in Mito</div> <script> if (window.commands.hasCommand('create-mitosheet-from-dataframe-output')) document.getElementById('d4e90180-8d0f-4de6-add9-cac2ab0ab802').style.display = 'flex' </script> <table border=\"1\" class=\"dataframe\">\n",
       "  <thead>\n",
       "    <tr style=\"text-align: right;\">\n",
       "      <th></th>\n",
       "      <th>Stations</th>\n",
       "      <th>Annees</th>\n",
       "      <th>Janv</th>\n",
       "      <th>Fevr</th>\n",
       "      <th>Mars</th>\n",
       "      <th>Avr</th>\n",
       "      <th>Mai</th>\n",
       "      <th>Juin</th>\n",
       "      <th>Juil</th>\n",
       "      <th>Aout</th>\n",
       "      <th>Sept</th>\n",
       "      <th>Oct</th>\n",
       "      <th>Nov</th>\n",
       "      <th>Dec</th>\n",
       "    </tr>\n",
       "  </thead>\n",
       "  <tbody>\n",
       "    <tr>\n",
       "      <th>52</th>\n",
       "      <td>Foundiougne</td>\n",
       "      <td>2002</td>\n",
       "      <td>56.5</td>\n",
       "      <td>0.0</td>\n",
       "      <td>0.0</td>\n",
       "      <td>0.0</td>\n",
       "      <td>0.0</td>\n",
       "      <td>54.2</td>\n",
       "      <td>25.7</td>\n",
       "      <td>221.1</td>\n",
       "      <td>288.3</td>\n",
       "      <td>164.0</td>\n",
       "      <td>0.0</td>\n",
       "      <td>0.0</td>\n",
       "    </tr>\n",
       "  </tbody>\n",
       "</table></div>"
      ],
      "text/plain": [
       "       Stations  Annees  Janv  Fevr  Mars  Avr  Mai  Juin  Juil   Aout   Sept  \\\n",
       "52  Foundiougne    2002  56.5   0.0   0.0  0.0  0.0  54.2  25.7  221.1  288.3   \n",
       "\n",
       "      Oct  Nov  Dec  \n",
       "52  164.0  0.0  0.0  "
      ]
     },
     "execution_count": 7,
     "metadata": {},
     "output_type": "execute_result"
    }
   ],
   "source": [
    "#Question5\n",
    "pf1[pf1['Janv'] == pf1['Janv'].max() ]\n",
    "#Renvoi le dataframe de la ligne ou pf['Janv'] est max\n",
    "#pf['Janv'] donne 56.5 "
   ]
  },
  {
   "cell_type": "code",
   "execution_count": 8,
   "id": "65b56cba",
   "metadata": {},
   "outputs": [
    {
     "name": "stdout",
     "output_type": "stream",
     "text": [
      "L'index et l’année où la courbe est maximale sont respectivement: 52    2002\n",
      "Name: Annees, dtype: int64\n"
     ]
    }
   ],
   "source": [
    "ppf=pf1[pf1['Janv'] == pf1['Janv'].max() ]\n",
    "print(\"L'index et l’année où la courbe est maximale sont respectivement:\",ppf.Annees)"
   ]
  },
  {
   "cell_type": "code",
   "execution_count": 79,
   "id": "84a71c2c",
   "metadata": {},
   "outputs": [
    {
     "data": {
      "text/plain": [
       "Stations    Foundiougne\n",
       "Annees             2002\n",
       "Janv               56.5\n",
       "Fevr                0.0\n",
       "Mars                0.0\n",
       "Avr                 0.0\n",
       "Mai                 0.0\n",
       "Juin               54.2\n",
       "Juil               25.7\n",
       "Aout              221.1\n",
       "Sept              288.3\n",
       "Oct               164.0\n",
       "Nov                 0.0\n",
       "Dec                 0.0\n",
       "Name: 52, dtype: object"
      ]
     },
     "execution_count": 79,
     "metadata": {},
     "output_type": "execute_result"
    }
   ],
   "source": [
    "#Autre methode \n",
    "k=pf1['Janv'].idxmax()\n",
    "pf.iloc[k,:]"
   ]
  },
  {
   "cell_type": "code",
   "execution_count": 9,
   "id": "ea42fa28",
   "metadata": {},
   "outputs": [
    {
     "data": {
      "text/plain": [
       "0     241.815385\n",
       "1     217.600000\n",
       "2     220.884615\n",
       "3     231.253846\n",
       "4     221.569231\n",
       "5     243.284615\n",
       "6     209.946154\n",
       "7     214.023077\n",
       "8     228.438462\n",
       "9     193.469231\n",
       "10    201.600000\n",
       "11    194.746154\n",
       "12    215.292308\n",
       "13    207.261538\n",
       "14    218.007692\n",
       "15    205.038462\n",
       "16    228.515385\n",
       "17    237.830769\n",
       "18    187.038462\n",
       "19    204.669231\n",
       "dtype: float64"
      ]
     },
     "execution_count": 9,
     "metadata": {},
     "output_type": "execute_result"
    }
   ],
   "source": [
    "#Question 6\n",
    "#Entre 1950-1969\n",
    "pf2=pf.iloc[0:20]\n",
    "m1=pf2.mean(axis=1)\n",
    "m1"
   ]
  },
  {
   "cell_type": "code",
   "execution_count": 13,
   "id": "f7e13015",
   "metadata": {},
   "outputs": [
    {
     "data": {
      "text/plain": [
       "20    195.276923\n",
       "21    224.623077\n",
       "22    183.653846\n",
       "23    193.784615\n",
       "24    200.669231\n",
       "25    198.492308\n",
       "26    192.653846\n",
       "27    184.969231\n",
       "28    197.592308\n",
       "29    196.623077\n",
       "30    189.138462\n",
       "31    188.961538\n",
       "32    196.723077\n",
       "33    172.938462\n",
       "34    202.107692\n",
       "35    195.953846\n",
       "36    194.253846\n",
       "37    199.600000\n",
       "38    201.815385\n",
       "39    222.084615\n",
       "40    189.776923\n",
       "41    194.530769\n",
       "42    190.415385\n",
       "43    199.769231\n",
       "44    201.215385\n",
       "45    217.761538\n",
       "46    204.815385\n",
       "47    197.607692\n",
       "48    186.723077\n",
       "49    223.061538\n",
       "dtype: float64"
      ]
     },
     "execution_count": 13,
     "metadata": {},
     "output_type": "execute_result"
    }
   ],
   "source": [
    "#Entre 1970-1999\n",
    "pf3=pf.iloc[20:50]\n",
    "m2=pf3.mean(axis=1)\n",
    "m2"
   ]
  },
  {
   "cell_type": "code",
   "execution_count": 14,
   "id": "d31ff4aa",
   "metadata": {},
   "outputs": [
    {
     "data": {
      "text/plain": [
       "50    224.761538\n",
       "51    219.015385\n",
       "52    216.292308\n",
       "53    208.315385\n",
       "54    258.830000\n",
       "55    220.930769\n",
       "56    213.815385\n",
       "57    343.162857\n",
       "58    208.284615\n",
       "59    201.776923\n",
       "60    211.823077\n",
       "61    198.423077\n",
       "62    311.750000\n",
       "63    205.153846\n",
       "64    190.169231\n",
       "65    199.138462\n",
       "66    197.676923\n",
       "67    201.038462\n",
       "dtype: float64"
      ]
     },
     "execution_count": 14,
     "metadata": {},
     "output_type": "execute_result"
    }
   ],
   "source": [
    "#Entre 2000-2017\n",
    "pf4=pf.iloc[50:68]\n",
    "m3=pf4.mean(axis=1)\n",
    "m3"
   ]
  },
  {
   "cell_type": "code",
   "execution_count": 15,
   "id": "30e2e7c7",
   "metadata": {},
   "outputs": [
    {
     "data": {
      "image/png": "[encoded data removed]",
      "text/plain": [
       "<Figure size 432x288 with 1 Axes>"
      ]
     },
     "metadata": {
      "needs_background": "light"
     },
     "output_type": "display_data"
    }
   ],
   "source": [
    "#Question7\n",
    "# la moyenne de la pluviométrie entre 1950 et 1969\n",
    "import matplotlib.pyplot as plt\n",
    "plt.plot(pf2.Annees,m1)\n",
    "#****************Q13***************************\n",
    "plt.savefig('Q7.png')\n",
    "#****************Q13***************************\n",
    "plt.show()"
   ]
  },
  {
   "cell_type": "code",
   "execution_count": 16,
   "id": "f0c69ce9",
   "metadata": {},
   "outputs": [
    {
     "data": {
      "image/png": "[encoded data removed]",
      "text/plain": [
       "<Figure size 432x288 with 1 Axes>"
      ]
     },
     "metadata": {
      "needs_background": "light"
     },
     "output_type": "display_data"
    }
   ],
   "source": [
    "#Question8\n",
    "# la moyenne de la pluviométrie entre 1970 et 1999\n",
    "import matplotlib.pyplot as plt\n",
    "plt.plot(pf3.Annees,m2)\n",
    "#****************Q13***************************\n",
    "plt.savefig('Q8.png')\n",
    "#****************Q13***************************\n",
    "plt.show()"
   ]
  },
  {
   "cell_type": "code",
   "execution_count": 17,
   "id": "15640a9d",
   "metadata": {},
   "outputs": [
    {
     "data": {
      "image/png": "[encoded data removed]",
      "text/plain": [
       "<Figure size 432x288 with 1 Axes>"
      ]
     },
     "metadata": {
      "needs_background": "light"
     },
     "output_type": "display_data"
    }
   ],
   "source": [
    "#Question9\n",
    "#la moyenne de la pluviométrie entre 2000 et 1917\n",
    "import matplotlib.pyplot as plt\n",
    "plt.plot(pf4.Annees,m3)\n",
    "#****************Q13***************************\n",
    "plt.savefig('Q9.png')\n",
    "#****************Q13***************************\n",
    "plt.show()"
   ]
  },
  {
   "cell_type": "code",
   "execution_count": 18,
   "id": "a646456f",
   "metadata": {},
   "outputs": [
    {
     "data": {
      "text/plain": [
       "0     3143.6\n",
       "1     2828.8\n",
       "2     2871.5\n",
       "3     3006.3\n",
       "4     2880.4\n",
       "       ...  \n",
       "63    2667.0\n",
       "64    2472.2\n",
       "65    2588.8\n",
       "66    2569.8\n",
       "67    2613.5\n",
       "Length: 68, dtype: float64"
      ]
     },
     "execution_count": 18,
     "metadata": {},
     "output_type": "execute_result"
    }
   ],
   "source": [
    "#Question10\n",
    "SP=pf.sum(axis=1)\n",
    "SP"
   ]
  },
  {
   "cell_type": "code",
   "execution_count": 19,
   "id": "3dc0b0b5",
   "metadata": {},
   "outputs": [
    {
     "data": {
      "text/plain": [
       "2676.505"
      ]
     },
     "execution_count": 19,
     "metadata": {},
     "output_type": "execute_result"
    }
   ],
   "source": [
    "SP.mean()"
   ]
  },
  {
   "cell_type": "code",
   "execution_count": 20,
   "id": "b2c514b9",
   "metadata": {},
   "outputs": [
    {
     "name": "stdout",
     "output_type": "stream",
     "text": [
      "[467.0949999999998, 152.29500000000007, 194.9949999999999, 329.7949999999996, 203.89499999999953, 486.1949999999997, 52.79500000000007, 105.79500000000007, 293.1949999999997, -161.4050000000002, -55.70500000000038, -144.8050000000003, 122.29499999999962, 17.894999999999527, 157.59500000000025, -11.004999999999654, 294.1949999999997, 415.2950000000001, -245.00500000000056, -15.805000000000291, -137.9050000000002, 243.5949999999998, -289.0050000000001, -157.30499999999984, -67.80500000000029, -96.10500000000002, -172.00499999999965, -271.9050000000002, -107.80500000000029, -120.4050000000002, -217.70500000000038, -220.00500000000056, -119.10500000000002, -428.3050000000003, -49.10500000000002, -129.10500000000002, -151.20499999999993, -81.70499999999993, -52.9050000000002, 210.5949999999998, -209.4050000000002, -147.60500000000002, -201.10500000000002, -79.50500000000056, -60.70499999999993, 154.39499999999998, -13.9050000000002, -107.60500000000002, -249.10500000000002, 223.29499999999962, 245.39500000000044, 170.6949999999997, 135.29500000000007, 31.595000000000255, -88.20499999999993, 195.5949999999998, 103.0949999999998, -274.36500000000024, 31.19499999999971, -53.4050000000002, 77.19500000000016, -97.00500000000011, 440.9949999999999, -9.50500000000011, -204.30499999999984, -87.70499999999993, -106.70499999999993, -63.00500000000011]\n"
     ]
    }
   ],
   "source": [
    "newSP=[]\n",
    "for i in range(len(SP)):\n",
    "    p=SP[i]-SP.mean()\n",
    "    newSP.append(p)\n",
    "print(newSP)"
   ]
  },
  {
   "cell_type": "code",
   "execution_count": 21,
   "id": "35d13c44",
   "metadata": {},
   "outputs": [
    {
     "data": {
      "image/png": "[encoded data removed]",
      "text/plain": [
       "<Figure size 432x288 with 1 Axes>"
      ]
     },
     "metadata": {
      "needs_background": "light"
     },
     "output_type": "display_data"
    }
   ],
   "source": [
    "#Question11\n",
    "#la courbe de la différence obtenue à la question précédente en fonction des années\n",
    "import matplotlib.pyplot as plt\n",
    "plt.plot(pf.Annees,newSP)\n",
    "#****************Q13***************************\n",
    "plt.savefig('Q11.png')\n",
    "#****************Q13***************************\n",
    "plt.show()"
   ]
  },
  {
   "cell_type": "code",
   "execution_count": 22,
   "id": "a3d6327a",
   "metadata": {},
   "outputs": [
    {
     "data": {
      "image/png": "[encoded data removed]",
      "text/plain": [
       "<Figure size 432x288 with 1 Axes>"
      ]
     },
     "metadata": {
      "needs_background": "light"
     },
     "output_type": "display_data"
    }
   ],
   "source": [
    "#Question12\n",
    "#Entre 1950-1969\n",
    "SP2=pf2.sum(axis=1)\n",
    "v=SP2.mean()\n",
    "newSP2=[]\n",
    "for i in range(len(SP2)):\n",
    "    n=SP2[i]-v\n",
    "    newSP2.append(n)\n",
    "#la courbe de la différence obtenue à la question précédente en fonction des années allant de  [1950, 1969]:\n",
    "import matplotlib.pyplot as plt\n",
    "plt.plot(pf2.Annees,newSP2)\n",
    "#****************Q13***************************\n",
    "plt.savefig('1950-1969.png')\n",
    "#****************Q13***************************\n",
    "plt.show()"
   ]
  },
  {
   "cell_type": "code",
   "execution_count": 23,
   "id": "2c91f21f",
   "metadata": {},
   "outputs": [
    {
     "data": {
      "image/png": "[encoded data removed]",
      "text/plain": [
       "<Figure size 432x288 with 1 Axes>"
      ]
     },
     "metadata": {
      "needs_background": "light"
     },
     "output_type": "display_data"
    }
   ],
   "source": [
    "#Entre 1970-1999\n",
    "SP3=pf3.sum(axis=1)\n",
    "w=SP3.mean()\n",
    "newSP3=[]\n",
    "for i in range(20,50):\n",
    "    l=SP3[i]-w\n",
    "    newSP3.append(l)\n",
    "#la courbe de la différence obtenue à la question précédente en fonction des années allant de  [1970, 1999]:\n",
    "import matplotlib.pyplot as plt\n",
    "plt.plot(pf3.Annees,newSP3)\n",
    "#****************Q13***************************\n",
    "plt.savefig('1970-1999.png')\n",
    "#****************Q13***************************\n",
    "plt.show()"
   ]
  },
  {
   "cell_type": "code",
   "execution_count": 26,
   "id": "585cc21a",
   "metadata": {},
   "outputs": [
    {
     "data": {
      "image/png": "[encoded data removed]",
      "text/plain": [
       "<Figure size 432x288 with 1 Axes>"
      ]
     },
     "metadata": {
      "needs_background": "light"
     },
     "output_type": "display_data"
    }
   ],
   "source": [
    "#Entre 2000-2017\n",
    "SP4=pf4.sum(axis=1)\n",
    "y=SP4.mean()\n",
    "newSP4=[]\n",
    "for i in range(50,68):\n",
    "    o=SP4[i]-y\n",
    "    newSP4.append(o)\n",
    "#la courbe de la différence obtenue à la question précédente en fonction des années allant de  [2000, 2017]:\n",
    "import matplotlib.pyplot as plt\n",
    "plt.plot(pf4.Annees,newSP4)\n",
    "#****************Q13***************************\n",
    "plt.savefig('2000-2017.png')\n",
    "#****************Q13***************************\n",
    "plt.show()"
   ]
  },
  {
   "cell_type": "code",
   "execution_count": 27,
   "id": "f9761c7e",
   "metadata": {},
   "outputs": [],
   "source": [
    "#Question13\n",
    "\n",
    "import openpyxl\n",
    "wb = openpyxl.load_workbook('pluvio_senegal.xlsx')\n",
    "\n",
    "wb.create_sheet('Question3')\n",
    "ws = wb['Question3']\n",
    "img = openpyxl.drawing.image.Image('Q3.png')\n",
    "img.anchor = 'A1'\n",
    "ws.add_image(img)\n",
    "\n",
    "wb.create_sheet('Question4')\n",
    "ws = wb['Question4']\n",
    "img = openpyxl.drawing.image.Image('Q4.png')\n",
    "img.anchor = 'A1'\n",
    "ws.add_image(img)\n",
    "\n",
    "wb.create_sheet('Question7')\n",
    "ws = wb['Question7']\n",
    "img = openpyxl.drawing.image.Image('Q7.png')\n",
    "img.anchor = 'A1'\n",
    "ws.add_image(img)\n",
    "\n",
    "wb.create_sheet('Question8')\n",
    "ws = wb['Question8']\n",
    "img = openpyxl.drawing.image.Image('Q8.png')\n",
    "img.anchor = 'A1'\n",
    "ws.add_image(img)\n",
    "\n",
    "wb.create_sheet('Question9')\n",
    "ws = wb['Question9']\n",
    "img = openpyxl.drawing.image.Image('Q9.png')\n",
    "img.anchor = 'A1'\n",
    "ws.add_image(img)\n",
    "\n",
    "wb.create_sheet('Question11')\n",
    "ws = wb['Question11']\n",
    "img = openpyxl.drawing.image.Image('Q11.png')\n",
    "img.anchor = 'A1'\n",
    "ws.add_image(img)\n",
    "\n",
    "wb.create_sheet('1950-1969')\n",
    "ws = wb['1950-1969']\n",
    "img = openpyxl.drawing.image.Image('1950-1969.png')\n",
    "img.anchor = 'A1'\n",
    "ws.add_image(img)\n",
    "\n",
    "wb.create_sheet('1970-1999')\n",
    "ws = wb['1970-1999']\n",
    "img = openpyxl.drawing.image.Image('1970-1999.png')\n",
    "img.anchor = 'A1'\n",
    "ws.add_image(img)\n",
    "\n",
    "wb.create_sheet('2000-2017')\n",
    "ws = wb['2000-2017']\n",
    "img = openpyxl.drawing.image.Image('2000-2017.png')\n",
    "img.anchor = 'A1'\n",
    "ws.add_image(img)\n",
    "\n",
    "wb.save('pluvio_senegal1.xlsx')"
   ]
  },
  {
   "cell_type": "markdown",
   "id": "366f7fdf",
   "metadata": {},
   "source": [
    "# FIN"
   ]
  }
 ],
 "metadata": {
  "kernelspec": {
   "display_name": "Python 3",
   "language": "python",
   "name": "python3"
  },
  "language_info": {
   "codemirror_mode": {
    "name": "ipython",
    "version": 3
   },
   "file_extension": ".py",
   "mimetype": "text/x-python",
   "name": "python",
   "nbconvert_exporter": "python",
   "pygments_lexer": "ipython3",
   "version": "3.8.8"
  }
 },
 "nbformat": 4,
 "nbformat_minor": 5
}
